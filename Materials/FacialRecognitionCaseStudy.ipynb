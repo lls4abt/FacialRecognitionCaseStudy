{
 "cells": [
  {
   "cell_type": "markdown",
   "id": "7e443c6d",
   "metadata": {},
   "source": [
    "#### Some of the following code was sourced from: https://www.kaggle.com/code/gulsahdemiryurek/image-classification-with-logistic-regression"
   ]
  },
  {
   "cell_type": "markdown",
   "id": "868f1018",
   "metadata": {},
   "source": [
    "## In this exercise, you will be training an image classifier that utilizes logistic regression to classify facial images as either male or female. Due to past technologies falsely classifying people of color, we are particularly concerned about our classifier functioning well for all racial groups. While our classifier has already been constructed, we need to assemble the optimal training data set for an accurate and unbiased classifier."
   ]
  },
  {
   "cell_type": "markdown",
   "id": "ce498cd6",
   "metadata": {},
   "source": [
    "### To begin, we need to import all the necessary data. The data can be found here: https://github.com/lls4abt/FacialRecognitionCaseStudy/tree/master/Materials/Data\n",
    "\n",
    "### Download both the training and testing data sets nd store them somewhere you can easily access"
   ]
  },
  {
   "cell_type": "markdown",
   "id": "4b5fc376",
   "metadata": {},
   "source": [
    "### Now let's start by building our classifier"
   ]
  },
  {
   "cell_type": "markdown",
   "id": "a22c9759",
   "metadata": {},
   "source": [
    "#### First, import the necessary modules"
   ]
  },
  {
   "cell_type": "code",
   "execution_count": 174,
   "id": "dd23699b",
   "metadata": {},
   "outputs": [],
   "source": [
    "import numpy as np \n",
    "import pandas as pd \n",
    "import matplotlib.pyplot as plt\n",
    "import cv2 \n",
    "import os \n",
    "from tqdm import tqdm \n",
    "from PIL import Image\n",
    "import warnings\n",
    "warnings.filterwarnings('ignore')\n",
    "import os\n",
    "import random\n",
    "import shutil"
   ]
  },
  {
   "cell_type": "markdown",
   "id": "d0a02656",
   "metadata": {},
   "source": [
    "#### Let's create our train_data function which prepares our training images to be run through the classifier."
   ]
  },
  {
   "cell_type": "code",
   "execution_count": 175,
   "id": "7187b366",
   "metadata": {},
   "outputs": [],
   "source": [
    "def train_data(train_female, train_male, image_size):\n",
    "    train_data_female = [] \n",
    "    train_data_male=[]\n",
    "    for image1 in tqdm(os.listdir(train_female)): \n",
    "         if image1 != \".DS_Store\":\n",
    "            path = os.path.join(train_female, image1)\n",
    "            img1 = cv2.imread(path, cv2.IMREAD_GRAYSCALE) \n",
    "            img1 = cv2.resize(img1, (image_size, image_size))\n",
    "            train_data_female.append(img1) \n",
    "    for image2 in tqdm(os.listdir(train_male)): \n",
    "        if image2 != \".DS_Store\":\n",
    "            path = os.path.join(train_male, image2)\n",
    "            img2 = cv2.imread(path, cv2.IMREAD_GRAYSCALE) \n",
    "            img2 = cv2.resize(img2, (image_size, image_size))\n",
    "            train_data_male.append(img2) \n",
    "        \n",
    "    train_data= np.concatenate((np.asarray(train_data_female),np.asarray(train_data_male)),axis=0)\n",
    "    return train_data "
   ]
  },
  {
   "cell_type": "markdown",
   "id": "2ca1e213",
   "metadata": {},
   "source": [
    "#### Let's create our test_data function which prepares our testing images to be run through the classifier."
   ]
  },
  {
   "cell_type": "code",
   "execution_count": 176,
   "id": "d48b5708",
   "metadata": {},
   "outputs": [],
   "source": [
    "def test_data(test_female, test_male, image_size):\n",
    "    test_data_female = [] \n",
    "    test_data_male = []\n",
    "    for image1 in tqdm(os.listdir(test_female)): \n",
    "        if image1 != \".DS_Store\":\n",
    "            path = os.path.join(test_female, image1)\n",
    "            img1 = cv2.imread(path, cv2.IMREAD_GRAYSCALE) \n",
    "            img1 = cv2.resize(img1, (image_size, image_size))\n",
    "            test_data_female.append(img1) \n",
    "    for image2 in tqdm(os.listdir(test_male)): \n",
    "        if image2 != \".DS_Store\":\n",
    "            path = os.path.join(test_male, image2)\n",
    "            img2 = cv2.imread(path, cv2.IMREAD_GRAYSCALE) \n",
    "            img2 = cv2.resize(img2, (image_size, image_size))\n",
    "            test_data_male.append(img2) \n",
    "    \n",
    "    test_data= np.concatenate((np.asarray(test_data_female),np.asarray(test_data_male)),axis=0) \n",
    "    return test_data "
   ]
  },
  {
   "cell_type": "markdown",
   "id": "7f1d94f7",
   "metadata": {},
   "source": [
    "#### Now let's build our logistic regression classifier. The details about how this classifier works is not necessary to know, but if you'd like to learn more there are plenty of sources here: \n",
    "\n",
    "https://github.com/lls4abt/FacialRecognitionCaseStudy/tree/master/Materials/Articles"
   ]
  },
  {
   "cell_type": "code",
   "execution_count": 177,
   "id": "b97d22e5",
   "metadata": {},
   "outputs": [],
   "source": [
    "def initialize_weights_and_bias(dimension):\n",
    "    w = np.full((dimension,1),0.01)\n",
    "    b = 0.0\n",
    "    return w, b\n",
    "\n",
    "def sigmoid(z):\n",
    "    y_head = 1/(1+np.exp(-z))\n",
    "    return y_head\n",
    "\n",
    "def forward_backward_propagation(w,b,x_train,y_train):\n",
    "    # forward propagation\n",
    "    z = np.dot(w.T,x_train) + b\n",
    "    y_head = sigmoid(z)\n",
    "    loss = -y_train*np.log(y_head)-(1-y_train)*np.log(1-y_head)\n",
    "    cost = (np.sum(loss))/x_train.shape[1]\n",
    "    # backward propagation\n",
    "    derivative_weight = (np.dot(x_train,((y_head-y_train).T)))/x_train.shape[1]\n",
    "    derivative_bias = np.sum(y_head-y_train)/x_train.shape[1]\n",
    "    gradients = {\"derivative_weight\": derivative_weight,\"derivative_bias\": derivative_bias}\n",
    "    return cost,gradients\n",
    "\n",
    "def update(w, b, x_train, y_train, learning_rate,number_of_iterarion):\n",
    "    cost_list = []\n",
    "    cost_list2 = []\n",
    "    index = []\n",
    "    \n",
    "    for i in range(number_of_iterarion):\n",
    "        \n",
    "        cost,gradients = forward_backward_propagation(w,b,x_train,y_train)\n",
    "        cost_list.append(cost)\n",
    "        \n",
    "        w = w - learning_rate * gradients[\"derivative_weight\"]\n",
    "        b = b - learning_rate * gradients[\"derivative_bias\"]\n",
    "        if i % 100 == 0:\n",
    "            cost_list2.append(cost)\n",
    "            index.append(i)\n",
    "            print (\"Cost after iteration %i: %f\" %(i, cost))\n",
    "    \n",
    "    parameters = {\"weight\": w,\"bias\": b}\n",
    "    plt.plot(index,cost_list2)\n",
    "    plt.xticks(index,rotation='vertical')\n",
    "    plt.xlabel(\"Number of Iterarion\")\n",
    "    plt.ylabel(\"Cost\")\n",
    "    plt.show()\n",
    "    return parameters, gradients, cost_list\n",
    "\n",
    "def predict(w,b,x_test):\n",
    "    \n",
    "    z = sigmoid(np.dot(w.T,x_test)+b)\n",
    "    Y_prediction = np.zeros((1,x_test.shape[1]))\n",
    "\n",
    "    for i in range(z.shape[1]):\n",
    "        if z[0,i]<= 0.5:\n",
    "            Y_prediction[0,i] = 0\n",
    "        else:\n",
    "            Y_prediction[0,i] = 1\n",
    "\n",
    "    return Y_prediction\n",
    "\n",
    "def logistic_regression(x_train, y_train, x_test, y_test, learning_rate, num_iterations):\n",
    "\n",
    "    dimension =  x_train.shape[0]\n",
    "    w,b = initialize_weights_and_bias(dimension)\n",
    "\n",
    "    parameters, gradients, cost_list = update(w, b, x_train, y_train, learning_rate,num_iterations)\n",
    "    \n",
    "    y_prediction_test = predict(parameters[\"weight\"],parameters[\"bias\"],x_test)\n",
    "    y_prediction_train = predict(parameters[\"weight\"],parameters[\"bias\"],x_train)\n",
    "    \n",
    "    print(\"Test Accuracy: {} %\".format(round(100 - np.mean(np.abs(y_prediction_test - y_test)) * 100,2)))\n",
    "    print(\"Train Accuracy: {} %\".format(round(100 - np.mean(np.abs(y_prediction_train - y_train)) * 100,2)))"
   ]
  },
  {
   "cell_type": "markdown",
   "id": "f1276013",
   "metadata": {},
   "source": [
    "#### Now this is where you come in. It's time to assemble our training data set. Our training set will consist of 1000 images and you will choose how many images from each racial group it will consist of. First we need to create a function that will pull images from our racial group folders. There are 4 racial groups: white, black, asian, other."
   ]
  },
  {
   "cell_type": "code",
   "execution_count": 178,
   "id": "034330c7",
   "metadata": {},
   "outputs": [],
   "source": [
    "def select_images (source, num_images, dst_dir):\n",
    "    used_images = []\n",
    "    file_list = os.listdir(source)\n",
    "    i = 0\n",
    "    while i < num_images:\n",
    "        a = random.choice(file_list)\n",
    "        if a not in used_images:\n",
    "            if a != \".DS_Store\":\n",
    "                shutil.copy(source + a, dst_dir)\n",
    "                used_images.append(a)\n",
    "                i+=1"
   ]
  },
  {
   "cell_type": "markdown",
   "id": "0b27cb87",
   "metadata": {},
   "source": [
    "#### ACTION REQUIRED: Now let's select how many images from each racial group you want to include in the training data. The default only includes white images. Make sure your total adds up to 1000. Also remember to record the final inputs. "
   ]
  },
  {
   "cell_type": "code",
   "execution_count": 1,
   "id": "43ae0818",
   "metadata": {},
   "outputs": [],
   "source": [
    "## ALTER THE FOLLOWING BASED ON HOW MANY IMAGES YOU WANT TO INCLUDE IN THE TRAINING SET FROM EACH RACIAL GROUP\n",
    "\n",
    "number_white = 1000\n",
    "number_asian = 0\n",
    "number_black = 0\n",
    "number_other = 0"
   ]
  },
  {
   "cell_type": "markdown",
   "id": "29262ba5",
   "metadata": {},
   "source": [
    "#### ACTION REQUIRED: Now create the training set"
   ]
  },
  {
   "cell_type": "code",
   "execution_count": 180,
   "id": "7060bcb8",
   "metadata": {},
   "outputs": [],
   "source": [
    "## ALTER THE FOLLOWING BASED ON PATHWAYS TO WHERE YOU STORED THE DATA\n",
    "\n",
    "dst_dir_f = \"Data/Train/TrainFemale/\" #this folder is already created but should be empty\n",
    "dst_dir_m = \"Data/Train/TrainMale/\" #this folder is already created but should be empty\n",
    "\n",
    "## The following folders should already contain images \n",
    "white_path_f = \"Data/Train/WhiteFemale/\" \n",
    "asian_path_f = \"Data/Train/AsianFemale/\"\n",
    "black_path_f = \"Data/Train/BlackFemale/\"\n",
    "other_path_f = \"Data/Train/OtherFemale/\"\n",
    "\n",
    "white_path_m = \"Data/Train/WhiteMale/\"\n",
    "asian_path_m = \"Data/Train/AsianMale/\"\n",
    "black_path_m = \"Data/Train/BlackMale/\"\n",
    "other_path_m = \"Data/Train/OtherMale/\"\n",
    "\n",
    "for f in os.listdir(dst_dir_f):\n",
    "    os.remove(os.path.join(dst_dir_f, f))\n",
    "    \n",
    "for f in os.listdir(dst_dir_m):\n",
    "    os.remove(os.path.join(dst_dir_m, f))  \n",
    "\n",
    "select_images(white_path_f, number_white, dst_dir_f)\n",
    "select_images(asian_path_f, number_asian, dst_dir_f)\n",
    "select_images(black_path_f, number_black, dst_dir_f)\n",
    "select_images(other_path_f, number_other, dst_dir_f) \n",
    "\n",
    "select_images(white_path_m, number_white, dst_dir_m)\n",
    "select_images(asian_path_m, number_asian, dst_dir_m)\n",
    "select_images(black_path_m, number_black, dst_dir_m)\n",
    "select_images(other_path_m, number_other, dst_dir_m)"
   ]
  },
  {
   "cell_type": "code",
   "execution_count": 181,
   "id": "826ec98d",
   "metadata": {},
   "outputs": [],
   "source": [
    "## ALTER THE FOLLOWING BASED ON PATHWAYS TO WHERE YOU STORED THE DATA\n",
    "\n",
    "test_female_data = \"Data/Test/TestFemale/\"\n",
    "test_male_data = \"Data/Test/TestMale/\"\n",
    "\n",
    "train_female_data = \"Data/Train/TrainFemale/\"\n",
    "train_male_data = \"Data/Train/TrainMale/\""
   ]
  },
  {
   "cell_type": "markdown",
   "id": "c128908e",
   "metadata": {},
   "source": [
    "#### Now let's run our classifier with the training set you constructed. Our classifier will be trained with our training data set and then it will attempt to classify the 200 test images. A final accuracy will be returned. Remember to record this final test accuracy."
   ]
  },
  {
   "cell_type": "code",
   "execution_count": 182,
   "id": "7d3cc208",
   "metadata": {},
   "outputs": [
    {
     "name": "stderr",
     "output_type": "stream",
     "text": [
      "100%|█████████████████████████████████████| 1000/1000 [00:00<00:00, 5174.74it/s]\n",
      "100%|█████████████████████████████████████| 1000/1000 [00:00<00:00, 5214.66it/s]\n",
      "100%|███████████████████████████████████████| 101/101 [00:00<00:00, 3013.13it/s]\n",
      "100%|███████████████████████████████████████| 101/101 [00:00<00:00, 3092.38it/s]\n"
     ]
    },
    {
     "name": "stdout",
     "output_type": "stream",
     "text": [
      "X train flatten (1870, 16384)\n",
      "X test flatten (330, 16384)\n",
      "Cost after iteration 0: nan\n",
      "Cost after iteration 100: 2.398853\n",
      "Cost after iteration 200: 2.067858\n",
      "Cost after iteration 300: 1.794276\n",
      "Cost after iteration 400: 1.556494\n",
      "Cost after iteration 500: 1.330636\n",
      "Cost after iteration 600: 1.109059\n",
      "Cost after iteration 700: 0.909988\n",
      "Cost after iteration 800: 0.761304\n",
      "Cost after iteration 900: 0.651378\n",
      "Cost after iteration 1000: 0.565860\n",
      "Cost after iteration 1100: 0.504827\n",
      "Cost after iteration 1200: 0.317730\n",
      "Cost after iteration 1300: 0.278412\n",
      "Cost after iteration 1400: 0.269474\n"
     ]
    },
    {
     "data": {
      "image/png": "[encoded data removed]",
      "text/plain": [
       "<Figure size 432x288 with 1 Axes>"
      ]
     },
     "metadata": {
      "needs_background": "light"
     },
     "output_type": "display_data"
    },
    {
     "name": "stdout",
     "output_type": "stream",
     "text": [
      "Test Accuracy: 90.0 %\n",
      "Train Accuracy: 90.32 %\n"
     ]
    }
   ],
   "source": [
    "image_size = 128\n",
    "\n",
    "train_data = train_data(train_female_data, train_male_data, image_size) \n",
    "test_data = test_data(test_female_data, test_male_data, image_size)\n",
    "\n",
    "x_data=np.concatenate((train_data,test_data),axis=0)\n",
    "x_data = (x_data-np.min(x_data))/(np.max(x_data)-np.min(x_data))\n",
    "\n",
    "z1 = np.zeros(1000)\n",
    "o1 = np.ones(1000)\n",
    "Y_train = np.concatenate((o1, z1), axis=0)\n",
    "z = np.zeros(100)\n",
    "o = np.ones(100)\n",
    "Y_test = np.concatenate((o, z), axis=0)\n",
    "\n",
    "y_data=np.concatenate((Y_train,Y_test),axis=0).reshape(x_data.shape[0],1)\n",
    "\n",
    "from sklearn.model_selection import train_test_split\n",
    "x_train, x_test, y_train, y_test = train_test_split(x_data, y_data, test_size=0.15, random_state=42)\n",
    "number_of_train = x_train.shape[0]\n",
    "number_of_test = x_test.shape[0]\n",
    "\n",
    "x_train_flatten = x_train.reshape(number_of_train,x_train.shape[1]*x_train.shape[2])\n",
    "x_test_flatten = x_test .reshape(number_of_test,x_test.shape[1]*x_test.shape[2])\n",
    "print(\"X train flatten\",x_train_flatten.shape)\n",
    "print(\"X test flatten\",x_test_flatten.shape)\n",
    "\n",
    "x_train = x_train_flatten.T\n",
    "x_test = x_test_flatten.T\n",
    "y_test = y_test.T\n",
    "y_train = y_train.T\n",
    "\n",
    "logistic_regression(x_train, y_train, x_test, y_test,learning_rate = 0.01, num_iterations = 1500)"
   ]
  },
  {
   "cell_type": "markdown",
   "id": "e92cfd60",
   "metadata": {},
   "source": [
    "### Make sure to record you're test accuarcy as well as the makeup of your training set. Run your classifier several more times trying different combinations for the training data set (don't worry about resetting your training set, the code will do this for you). What training set resulted in the highest test accuracy? Why do you think this is so? Are there any pattern or trends in inputs and outputs?"
   ]
  }
 ],
 "metadata": {
  "kernelspec": {
   "display_name": "Python 3 (ipykernel)",
   "language": "python",
   "name": "python3"
  },
  "language_info": {
   "codemirror_mode": {
    "name": "ipython",
    "version": 3
   },
   "file_extension": ".py",
   "mimetype": "text/x-python",
   "name": "python",
   "nbconvert_exporter": "python",
   "pygments_lexer": "ipython3",
   "version": "3.9.15"
  }
 },
 "nbformat": 4,
 "nbformat_minor": 5
}
